{
  "nbformat": 4,
  "nbformat_minor": 0,
  "metadata": {
    "colab": {
      "name": "Assignment3.ipynb",
      "provenance": [],
      "authorship_tag": "ABX9TyPc4DL2dA2tLij0xkRdeKJY",
      "include_colab_link": true
    },
    "kernelspec": {
      "name": "python3",
      "display_name": "Python 3"
    },
    "language_info": {
      "name": "python"
    }
  },
  "cells": [
    {
      "cell_type": "markdown",
      "metadata": {
        "id": "view-in-github",
        "colab_type": "text"
      },
      "source": [
        "<a href=\"https://colab.research.google.com/github/debmalyah/Python-for-Data-Science-Assignments/blob/main/Assignment3.ipynb\" target=\"_parent\"><img src=\"https://colab.research.google.com/assets/colab-badge.svg\" alt=\"Open In Colab\"/></a>"
      ]
    },
    {
      "cell_type": "code",
      "metadata": {
        "id": "Zy7LZS99y7u4"
      },
      "source": [
        "import pandas as pd\n",
        "import numpy as np \n"
      ],
      "execution_count": 2,
      "outputs": []
    },
    {
      "cell_type": "code",
      "metadata": {
        "id": "hsf6Npg26MS2"
      },
      "source": [
        "df=pd.DataFrame(np.random.randn(4,5),index=['Row1','Row2','Row3','Row4'],columns=[\"Column1\",\"Column2\",\"Column3\",\"Column4\",\"Column5\"])"
      ],
      "execution_count": 3,
      "outputs": []
    },
    {
      "cell_type": "code",
      "metadata": {
        "colab": {
          "base_uri": "https://localhost:8080/",
          "height": 175
        },
        "id": "3SBeBsD78rCF",
        "outputId": "3d141ed2-dcab-46d7-ef09-d267c06e0bf1"
      },
      "source": [
        "df.head()"
      ],
      "execution_count": 4,
      "outputs": [
        {
          "output_type": "execute_result",
          "data": {
            "text/html": [
              "<div>\n",
              "<style scoped>\n",
              "    .dataframe tbody tr th:only-of-type {\n",
              "        vertical-align: middle;\n",
              "    }\n",
              "\n",
              "    .dataframe tbody tr th {\n",
              "        vertical-align: top;\n",
              "    }\n",
              "\n",
              "    .dataframe thead th {\n",
              "        text-align: right;\n",
              "    }\n",
              "</style>\n",
              "<table border=\"1\" class=\"dataframe\">\n",
              "  <thead>\n",
              "    <tr style=\"text-align: right;\">\n",
              "      <th></th>\n",
              "      <th>Column1</th>\n",
              "      <th>Column2</th>\n",
              "      <th>Column3</th>\n",
              "      <th>Column4</th>\n",
              "      <th>Column5</th>\n",
              "    </tr>\n",
              "  </thead>\n",
              "  <tbody>\n",
              "    <tr>\n",
              "      <th>Row1</th>\n",
              "      <td>0.033381</td>\n",
              "      <td>0.408834</td>\n",
              "      <td>-0.374799</td>\n",
              "      <td>-0.653183</td>\n",
              "      <td>0.116857</td>\n",
              "    </tr>\n",
              "    <tr>\n",
              "      <th>Row2</th>\n",
              "      <td>0.711743</td>\n",
              "      <td>0.634539</td>\n",
              "      <td>-1.543841</td>\n",
              "      <td>0.507699</td>\n",
              "      <td>0.668963</td>\n",
              "    </tr>\n",
              "    <tr>\n",
              "      <th>Row3</th>\n",
              "      <td>-0.765884</td>\n",
              "      <td>-0.440251</td>\n",
              "      <td>-1.296314</td>\n",
              "      <td>0.457248</td>\n",
              "      <td>-0.576276</td>\n",
              "    </tr>\n",
              "    <tr>\n",
              "      <th>Row4</th>\n",
              "      <td>-2.708689</td>\n",
              "      <td>-0.486640</td>\n",
              "      <td>-0.199157</td>\n",
              "      <td>-0.361895</td>\n",
              "      <td>0.739794</td>\n",
              "    </tr>\n",
              "  </tbody>\n",
              "</table>\n",
              "</div>"
            ],
            "text/plain": [
              "       Column1   Column2   Column3   Column4   Column5\n",
              "Row1  0.033381  0.408834 -0.374799 -0.653183  0.116857\n",
              "Row2  0.711743  0.634539 -1.543841  0.507699  0.668963\n",
              "Row3 -0.765884 -0.440251 -1.296314  0.457248 -0.576276\n",
              "Row4 -2.708689 -0.486640 -0.199157 -0.361895  0.739794"
            ]
          },
          "metadata": {},
          "execution_count": 4
        }
      ]
    },
    {
      "cell_type": "code",
      "metadata": {
        "colab": {
          "base_uri": "https://localhost:8080/",
          "height": 175
        },
        "id": "se_xUm5b8wK2",
        "outputId": "dd234873-85e4-4e4e-9ea3-ac1851b87d5f"
      },
      "source": [
        "df[['Column2', 'Column3']]"
      ],
      "execution_count": 5,
      "outputs": [
        {
          "output_type": "execute_result",
          "data": {
            "text/html": [
              "<div>\n",
              "<style scoped>\n",
              "    .dataframe tbody tr th:only-of-type {\n",
              "        vertical-align: middle;\n",
              "    }\n",
              "\n",
              "    .dataframe tbody tr th {\n",
              "        vertical-align: top;\n",
              "    }\n",
              "\n",
              "    .dataframe thead th {\n",
              "        text-align: right;\n",
              "    }\n",
              "</style>\n",
              "<table border=\"1\" class=\"dataframe\">\n",
              "  <thead>\n",
              "    <tr style=\"text-align: right;\">\n",
              "      <th></th>\n",
              "      <th>Column2</th>\n",
              "      <th>Column3</th>\n",
              "    </tr>\n",
              "  </thead>\n",
              "  <tbody>\n",
              "    <tr>\n",
              "      <th>Row1</th>\n",
              "      <td>0.408834</td>\n",
              "      <td>-0.374799</td>\n",
              "    </tr>\n",
              "    <tr>\n",
              "      <th>Row2</th>\n",
              "      <td>0.634539</td>\n",
              "      <td>-1.543841</td>\n",
              "    </tr>\n",
              "    <tr>\n",
              "      <th>Row3</th>\n",
              "      <td>-0.440251</td>\n",
              "      <td>-1.296314</td>\n",
              "    </tr>\n",
              "    <tr>\n",
              "      <th>Row4</th>\n",
              "      <td>-0.486640</td>\n",
              "      <td>-0.199157</td>\n",
              "    </tr>\n",
              "  </tbody>\n",
              "</table>\n",
              "</div>"
            ],
            "text/plain": [
              "       Column2   Column3\n",
              "Row1  0.408834 -0.374799\n",
              "Row2  0.634539 -1.543841\n",
              "Row3 -0.440251 -1.296314\n",
              "Row4 -0.486640 -0.199157"
            ]
          },
          "metadata": {},
          "execution_count": 5
        }
      ]
    },
    {
      "cell_type": "code",
      "metadata": {
        "colab": {
          "base_uri": "https://localhost:8080/"
        },
        "id": "wx64TxV987K9",
        "outputId": "b73947c4-797d-4158-eadb-a2b84b14b6f8"
      },
      "source": [
        "df.info()"
      ],
      "execution_count": 6,
      "outputs": [
        {
          "output_type": "stream",
          "name": "stdout",
          "text": [
            "<class 'pandas.core.frame.DataFrame'>\n",
            "Index: 4 entries, Row1 to Row4\n",
            "Data columns (total 5 columns):\n",
            " #   Column   Non-Null Count  Dtype  \n",
            "---  ------   --------------  -----  \n",
            " 0   Column1  4 non-null      float64\n",
            " 1   Column2  4 non-null      float64\n",
            " 2   Column3  4 non-null      float64\n",
            " 3   Column4  4 non-null      float64\n",
            " 4   Column5  4 non-null      float64\n",
            "dtypes: float64(5)\n",
            "memory usage: 352.0+ bytes\n"
          ]
        }
      ]
    },
    {
      "cell_type": "code",
      "metadata": {
        "colab": {
          "base_uri": "https://localhost:8080/",
          "height": 300
        },
        "id": "kYel6WsX8_2T",
        "outputId": "d4bc3298-29d3-45a7-a4a3-c4c04a105e02"
      },
      "source": [
        "df.describe()"
      ],
      "execution_count": 7,
      "outputs": [
        {
          "output_type": "execute_result",
          "data": {
            "text/html": [
              "<div>\n",
              "<style scoped>\n",
              "    .dataframe tbody tr th:only-of-type {\n",
              "        vertical-align: middle;\n",
              "    }\n",
              "\n",
              "    .dataframe tbody tr th {\n",
              "        vertical-align: top;\n",
              "    }\n",
              "\n",
              "    .dataframe thead th {\n",
              "        text-align: right;\n",
              "    }\n",
              "</style>\n",
              "<table border=\"1\" class=\"dataframe\">\n",
              "  <thead>\n",
              "    <tr style=\"text-align: right;\">\n",
              "      <th></th>\n",
              "      <th>Column1</th>\n",
              "      <th>Column2</th>\n",
              "      <th>Column3</th>\n",
              "      <th>Column4</th>\n",
              "      <th>Column5</th>\n",
              "    </tr>\n",
              "  </thead>\n",
              "  <tbody>\n",
              "    <tr>\n",
              "      <th>count</th>\n",
              "      <td>4.000000</td>\n",
              "      <td>4.000000</td>\n",
              "      <td>4.000000</td>\n",
              "      <td>4.000000</td>\n",
              "      <td>4.000000</td>\n",
              "    </tr>\n",
              "    <tr>\n",
              "      <th>mean</th>\n",
              "      <td>-0.682362</td>\n",
              "      <td>0.029121</td>\n",
              "      <td>-0.853528</td>\n",
              "      <td>-0.012533</td>\n",
              "      <td>0.237335</td>\n",
              "    </tr>\n",
              "    <tr>\n",
              "      <th>std</th>\n",
              "      <td>1.479729</td>\n",
              "      <td>0.576493</td>\n",
              "      <td>0.665826</td>\n",
              "      <td>0.584187</td>\n",
              "      <td>0.609712</td>\n",
              "    </tr>\n",
              "    <tr>\n",
              "      <th>min</th>\n",
              "      <td>-2.708689</td>\n",
              "      <td>-0.486640</td>\n",
              "      <td>-1.543841</td>\n",
              "      <td>-0.653183</td>\n",
              "      <td>-0.576276</td>\n",
              "    </tr>\n",
              "    <tr>\n",
              "      <th>25%</th>\n",
              "      <td>-1.251585</td>\n",
              "      <td>-0.451848</td>\n",
              "      <td>-1.358196</td>\n",
              "      <td>-0.434717</td>\n",
              "      <td>-0.056426</td>\n",
              "    </tr>\n",
              "    <tr>\n",
              "      <th>50%</th>\n",
              "      <td>-0.366251</td>\n",
              "      <td>-0.015708</td>\n",
              "      <td>-0.835557</td>\n",
              "      <td>0.047677</td>\n",
              "      <td>0.392910</td>\n",
              "    </tr>\n",
              "    <tr>\n",
              "      <th>75%</th>\n",
              "      <td>0.202971</td>\n",
              "      <td>0.465261</td>\n",
              "      <td>-0.330889</td>\n",
              "      <td>0.469861</td>\n",
              "      <td>0.686671</td>\n",
              "    </tr>\n",
              "    <tr>\n",
              "      <th>max</th>\n",
              "      <td>0.711743</td>\n",
              "      <td>0.634539</td>\n",
              "      <td>-0.199157</td>\n",
              "      <td>0.507699</td>\n",
              "      <td>0.739794</td>\n",
              "    </tr>\n",
              "  </tbody>\n",
              "</table>\n",
              "</div>"
            ],
            "text/plain": [
              "        Column1   Column2   Column3   Column4   Column5\n",
              "count  4.000000  4.000000  4.000000  4.000000  4.000000\n",
              "mean  -0.682362  0.029121 -0.853528 -0.012533  0.237335\n",
              "std    1.479729  0.576493  0.665826  0.584187  0.609712\n",
              "min   -2.708689 -0.486640 -1.543841 -0.653183 -0.576276\n",
              "25%   -1.251585 -0.451848 -1.358196 -0.434717 -0.056426\n",
              "50%   -0.366251 -0.015708 -0.835557  0.047677  0.392910\n",
              "75%    0.202971  0.465261 -0.330889  0.469861  0.686671\n",
              "max    0.711743  0.634539 -0.199157  0.507699  0.739794"
            ]
          },
          "metadata": {},
          "execution_count": 7
        }
      ]
    },
    {
      "cell_type": "code",
      "metadata": {
        "id": "o1lCvI6g9OPH"
      },
      "source": [
        ""
      ],
      "execution_count": null,
      "outputs": []
    }
  ]
}